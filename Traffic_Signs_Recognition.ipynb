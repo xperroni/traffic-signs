{
 "cells": [
  {
   "cell_type": "markdown",
   "metadata": {},
   "source": [
    "# Self-Driving Car Engineer Nanodegree\n",
    "\n",
    "## Deep Learning\n",
    "\n",
    "## Project: Build a Traffic Sign Recognition Classifier\n",
    "\n",
    "In this notebook, a template is provided for you to implement your functionality in stages which is required to successfully complete this project. If additional code is required that cannot be included in the notebook, be sure that the Python code is successfully imported and included in your submission, if necessary. Sections that begin with **'Implementation'** in the header indicate where you should begin your implementation for your project. Note that some sections of implementation are optional, and will be marked with **'Optional'** in the header.\n",
    "\n",
    "In addition to implementing code, there will be questions that you must answer which relate to the project and your implementation. Each section where you will answer a question is preceded by a **'Question'** header. Carefully read each question and provide thorough answers in the following text boxes that begin with **'Answer:'**. Your project submission will be evaluated based on your answers to each of the questions and the implementation you provide.\n",
    "\n",
    ">**Note:** Code and Markdown cells can be executed using the **Shift + Enter** keyboard shortcut. In addition, Markdown cells can be edited by typically double-clicking the cell to enter edit mode."
   ]
  },
  {
   "cell_type": "markdown",
   "metadata": {},
   "source": [
    "---\n",
    "\n",
    "## Step 1: Dataset Exploration\n",
    "\n",
    "Visualize the German Traffic Signs Dataset. This is open ended, some suggestions include: plotting traffic signs images, plotting the count of each sign, etc. Be creative!\n",
    "\n",
    "\n",
    "The pickled data is a dictionary with 4 key/value pairs:\n",
    "\n",
    "- features -> the images pixel values, (width, height, channels)\n",
    "- labels -> the label of the traffic sign\n",
    "- sizes -> the original width and height of the image, (width, height)\n",
    "- coords -> coordinates of a bounding box around the sign in the image, (x1, y1, x2, y2)"
   ]
  },
  {
   "cell_type": "code",
   "execution_count": null,
   "metadata": {
    "collapsed": true
   },
   "outputs": [],
   "source": [
    "### Basic module imports and functions.\n",
    "\n",
    "import cv2\n",
    "import numpy as np\n",
    "\n",
    "\n",
    "class Attributes(object):\n",
    "    r'''Dynamic collection of named attributes.\n",
    "    '''\n",
    "    def __setattr__(self, name, value):\n",
    "        object.__setattr__(self, name, value)"
   ]
  },
  {
   "cell_type": "code",
   "execution_count": null,
   "metadata": {
    "collapsed": false
   },
   "outputs": [],
   "source": [
    "### Basic dataset manipulation classes.\n",
    "\n",
    "import pickle\n",
    "\n",
    "\n",
    "class Dataset(object):\n",
    "    def __init__(self, *args):\n",
    "        if len(args) == 1:\n",
    "            self.assign(args[0])\n",
    "        elif len(args) == 2:\n",
    "            self.title = args[0]\n",
    "            self.load(args[1])\n",
    "        elif len(args) == 3:\n",
    "            self.title = args[0]\n",
    "            self.X = args[1]\n",
    "            self.y = args[2]\n",
    "        else:\n",
    "            raise Exception('Invalid argument list: %s' % str(args))\n",
    "\n",
    "    def __len__(self):\n",
    "        return len(self.X)\n",
    "    \n",
    "    def __str__(self):\n",
    "        stats = self.stats()\n",
    "        template = (\n",
    "            '%s dataset\\n'\n",
    "            'Number of entries: %d\\n'\n",
    "            'Input shape: %s\\n'\n",
    "            'Number of classes: %d\\n'\n",
    "        )\n",
    "        \n",
    "        return template % (\n",
    "            self.title,\n",
    "            len(self),\n",
    "            str(stats.inputs.shape),\n",
    "            len(stats.classes)\n",
    "        )\n",
    "\n",
    "    def assign(self, dataset):\n",
    "        self.title = dataset.title\n",
    "        self.X = dataset.X\n",
    "        self.y = dataset.y\n",
    "\n",
    "    def load(self, path):\n",
    "        with open(path, mode='rb') as data:\n",
    "            dataset = pickle.load(data)\n",
    "            self.X = dataset['features']\n",
    "            self.y = dataset['labels']\n",
    "    \n",
    "    def stats(self):\n",
    "        s = Attributes()\n",
    "        s.inputs = Attributes()\n",
    "        s.inputs.shape = self.X[0].shape\n",
    "        \n",
    "        y = self.y\n",
    "        if len(y.shape) == 1:\n",
    "            s.classes = set(y)\n",
    "        else:\n",
    "            s.classes = set(np.argmax(y_i) for y_i in y)\n",
    "            \n",
    "        return s\n",
    "    \n",
    "    \n",
    "def Parameters():\n",
    "    parameters = Attributes()\n",
    "    parameters.inputs = Attributes()\n",
    "    parameters.output = Attributes()\n",
    "    parameters.patch = Attributes()\n",
    "    parameters.batch = Attributes()\n",
    "    return parameters"
   ]
  },
  {
   "cell_type": "code",
   "execution_count": null,
   "metadata": {
    "collapsed": false
   },
   "outputs": [],
   "source": [
    "### First we load the training and test datasets.\n",
    "\n",
    "data = Attributes()\n",
    "data.train = Dataset('Train', 'datasets/pickled/train.p')\n",
    "data.tests = Dataset('Test', 'datasets/pickled/test.p')\n",
    "\n",
    "parameters = Parameters()\n",
    "parameters.inputs.side = data.train.X[0].shape[0]\n",
    "parameters.output.classes = len(data.train.stats().classes)\n",
    "\n",
    "### Do a basic data summary.\n",
    "\n",
    "print(data.train)\n",
    "print(data.tests)"
   ]
  },
  {
   "cell_type": "code",
   "execution_count": null,
   "metadata": {
    "collapsed": false,
    "scrolled": true
   },
   "outputs": [],
   "source": [
    "### Data exploration visualization.\n",
    "\n",
    "import csv\n",
    "from random import sample\n",
    "\n",
    "from matplotlib import pyplot as plt\n",
    "from matplotlib import cm\n",
    "\n",
    "\n",
    "# Widen the page region used for plots\n",
    "plt.rcParams['figure.figsize'] = (9.0, 4.0) # Otiginal: (6.0, 4.0)\n",
    "\n",
    "\n",
    "class Displayer(object):\n",
    "    def __init__(self, path):\n",
    "        with open(path) as csv_file:\n",
    "            csv_data = csv.reader(csv_file)\n",
    "            next(csv_data) # Discard column title row\n",
    "            self.labels = dict((int(row[0]), str(row[1])) for row in csv_data)\n",
    "\n",
    "    def __call__(self, dataset, k=5):\n",
    "        r'''Display `k` samples of each class from the given dataset.\n",
    "        '''\n",
    "        n = len(dataset)\n",
    "\n",
    "        print('\\n\\n  %s' % ('-' * 80))\n",
    "        print('  %s dataset (total %d entries)' % (dataset.title, n))\n",
    "        print('  %s\\n\\n' % ('-' * 80))\n",
    "\n",
    "        y = dataset.y\n",
    "        labels = self.labels\n",
    "        classes = dict((i, list()) for i in range(len(labels)))\n",
    "        for i in range(n):\n",
    "            y_i = y[i]\n",
    "            if isinstance(y_i, np.ndarray):\n",
    "                y_i = np.argmax(y_i)\n",
    "            \n",
    "            classes[y_i].append(i)\n",
    "\n",
    "        for c in range(len(classes)):\n",
    "            indexes = classes[c]\n",
    "            print('  Class %d (\"%s\", total %d entries) samples:' % (c, labels[c], len(indexes)))\n",
    "            s = sample(indexes, k)\n",
    "            self.display_signs(dataset, s)\n",
    "\n",
    "    def display_signs(self, dataset, indexes):\n",
    "        r'''Display the indexed sign images and corresponding labels side by side.\n",
    "        '''\n",
    "        n = len(indexes)\n",
    "        for i in range(n):\n",
    "            plotter = plt.subplot2grid((1, n), (0, i))\n",
    "            self.display_sign(plotter, dataset, indexes[i])\n",
    "\n",
    "        plt.tight_layout()\n",
    "        plt.show()\n",
    "\n",
    "    def display_sign(self, plotter, dataset, i):\n",
    "        r'''Display a sign image and corresponding numeric label.\n",
    "        '''\n",
    "        self.display_array(plotter, dataset.X[i])\n",
    "        plotter.xaxis.set_visible(False)\n",
    "        plotter.yaxis.set_visible(False)\n",
    "        plotter.title.set_text(str(i))\n",
    "\n",
    "    def display_array(self, plotter, x):\n",
    "        channels = x.shape[2:]\n",
    "        if channels == (3,) and x.dtype == np.uint8:\n",
    "            plotter.imshow(x)\n",
    "        elif channels == (1,):\n",
    "            (i, j) = np.indices(x.shape[:2])\n",
    "            plotter.matshow(x[i, j, 0], cmap=cm.gray)\n",
    "        elif channels == ():\n",
    "            plotter.matshow(x, cmap=cm.gray)\n",
    "        else:\n",
    "            raise Exception('Cannot display array of shape %s and type %s' % (str(x.shape), str(x.dtype)))"
   ]
  },
  {
   "cell_type": "code",
   "execution_count": null,
   "metadata": {
    "collapsed": false,
    "scrolled": true
   },
   "outputs": [],
   "source": [
    "# Display summary statistics and samples for the training and test datasets.\n",
    "\n",
    "display = Displayer('datasets/signnames.csv')\n",
    "\n",
    "display(data.train)\n",
    "display(data.tests)"
   ]
  },
  {
   "cell_type": "markdown",
   "metadata": {},
   "source": [
    "----\n",
    "\n",
    "## Step 2: Design and Test a Model Architecture\n",
    "\n",
    "Design and implement a deep learning model that learns to recognize traffic signs. Train and test your model on the [German Traffic Sign Dataset](http://benchmark.ini.rub.de/?section=gtsrb&subsection=dataset).\n",
    "\n",
    "There are various aspects to consider when thinking about this problem:\n",
    "\n",
    "- Your model can be derived from a deep feedforward net or a deep convolutional network.\n",
    "- Play around preprocessing techniques (normalization, rgb to grayscale, etc)\n",
    "- Number of examples per label (some have more than others).\n",
    "- Generate fake data.\n",
    "\n",
    "Here is an example of a [published baseline model on this problem](http://yann.lecun.com/exdb/publis/pdf/sermanet-ijcnn-11.pdf). It's not required to be familiar with the approach used in the paper but, it's good practice to try to read papers like these."
   ]
  },
  {
   "cell_type": "markdown",
   "metadata": {},
   "source": [
    "### Implementation\n",
    "\n",
    "Use the code cell (or multiple code cells, if necessary) to implement the first step of your project. Once you have completed your implementation and are satisfied with the results, be sure to thoroughly answer the questions that follow."
   ]
  },
  {
   "cell_type": "code",
   "execution_count": null,
   "metadata": {
    "collapsed": false,
    "scrolled": true
   },
   "outputs": [],
   "source": [
    "### Data preprocessing facilities.\n",
    "\n",
    "class Preprocessed(Dataset):\n",
    "    def __init__(self, *args):\n",
    "        Dataset.__init__(self, *args)\n",
    "        X = self.X\n",
    "        y = self.y\n",
    "        stats = self.stats()\n",
    "        image_shape = stats.inputs.shape\n",
    "        shape = (len(self), image_shape[0], image_shape[1], 1)\n",
    "\n",
    "        Xp = np.zeros(shape, dtype=np.float32)\n",
    "        for (data, image) in zip(Xp, X):\n",
    "            data.flat = cv2.cvtColor(image, cv2.COLOR_BGR2GRAY).astype(np.float32).flat\n",
    "            data -= np.mean(data)\n",
    "            data /= np.std(data)\n",
    "\n",
    "        n = len(stats.classes)\n",
    "        yp = (np.arange(n) == y[:, None]).astype(np.float32)\n",
    "        \n",
    "        self.X = Xp\n",
    "        self.y = yp"
   ]
  },
  {
   "cell_type": "code",
   "execution_count": null,
   "metadata": {
    "collapsed": false,
    "scrolled": true
   },
   "outputs": [],
   "source": [
    "# Preprocess training and test datasets.\n",
    "\n",
    "data.train = Preprocessed(data.train)\n",
    "data.tests = Preprocessed(data.tests)\n",
    "\n",
    "parameters.inputs.depth = 1\n",
    "\n",
    "display(data.train)\n",
    "display(data.tests)"
   ]
  },
  {
   "cell_type": "markdown",
   "metadata": {},
   "source": [
    "### Question 1 \n",
    "\n",
    "_Describe the techniques used to preprocess the data._"
   ]
  },
  {
   "cell_type": "markdown",
   "metadata": {},
   "source": [
    "**Answer:**"
   ]
  },
  {
   "cell_type": "code",
   "execution_count": null,
   "metadata": {
    "collapsed": false
   },
   "outputs": [],
   "source": [
    "### Separate a validation subset from the training dataset.\n",
    "\n",
    "from sklearn.cross_validation import train_test_split\n",
    "\n",
    "\n",
    "def split(dataset, rate=0.3):\n",
    "    X = dataset.X\n",
    "    y = dataset.y\n",
    "\n",
    "    (X_train, X_valid, y_train, y_valid) = train_test_split(\n",
    "        X,\n",
    "        y,\n",
    "        test_size=rate,\n",
    "        random_state=832289\n",
    "    )\n",
    "    \n",
    "    return (\n",
    "        Dataset('Train', X_train, y_train),\n",
    "        Dataset('Validate', X_valid, y_valid)\n",
    "    )"
   ]
  },
  {
   "cell_type": "code",
   "execution_count": null,
   "metadata": {
    "collapsed": false
   },
   "outputs": [],
   "source": [
    "data.stats = data.train.stats()\n",
    "(data.train, data.valid) = split(data.train)\n",
    "\n",
    "print('Size of training dataset: %d entries' % len(data.train))\n",
    "print('Size of validation dataset: %d entries' % len(data.valid))"
   ]
  },
  {
   "cell_type": "markdown",
   "metadata": {},
   "source": [
    "### Question 2\n",
    "\n",
    "_Describe how you set up the training, validation and testing data for your model. If you generated additional data, why?_"
   ]
  },
  {
   "cell_type": "markdown",
   "metadata": {},
   "source": [
    "**Answer:**"
   ]
  },
  {
   "cell_type": "code",
   "execution_count": null,
   "metadata": {
    "collapsed": false
   },
   "outputs": [],
   "source": [
    "### Define your architecture here.\n",
    "### Feel free to use as many code cells as needed.\n",
    "\n",
    "import tensorflow as tf\n",
    "\n",
    "\n",
    "def conn1d_layer(x, b_i, n, nonlinear=True):\n",
    "    m = x.get_shape().as_list()[-1]\n",
    "    W = tf.Variable(tf.truncated_normal([m, n], stddev=0.1))\n",
    "    b = tf.Variable(tf.constant(b_i, shape=[n]))\n",
    "    return tf.matmul(x, W) + b\n",
    "\n",
    "\n",
    "def conv2d_layer(x, b_i, *shape):\n",
    "    shape = list(shape)\n",
    "    W = tf.Variable(tf.truncated_normal(shape, stddev=0.1)) \n",
    "    C = tf.nn.conv2d(x, W, [1, 2, 2, 1], padding='VALID')\n",
    "    b = tf.Variable(tf.constant(b_i, shape=shape[-1:]))\n",
    "    return tf.nn.relu(C + b)\n",
    "\n",
    "\n",
    "def reshape2d(x):\n",
    "    shape = x.get_shape()\n",
    "    shape = [-1, shape[1:].num_elements()]\n",
    "    return tf.reshape(x, shape)\n",
    "\n",
    "\n",
    "class Network(object):\n",
    "    def __init__(self, parameters):\n",
    "        l_input = parameters.inputs.side\n",
    "        d_input = parameters.inputs.depth\n",
    "        l_patch = parameters.patch.side\n",
    "        d_patch = parameters.patch.depth\n",
    "        n_hidden = parameters.hidden_nodes\n",
    "        n_classes = parameters.output.classes\n",
    "        \n",
    "        self.inputs = tf.placeholder(tf.float32, shape=(None, l_input, l_input, d_input))\n",
    "        self.output = tf.placeholder(tf.float32)\n",
    "        layer1 = conv2d_layer(self.inputs, 0.0, l_patch, l_patch, d_input, d_patch)\n",
    "        layer2 = conv2d_layer(layer1, 1.0, l_patch, l_patch, d_patch, d_patch)\n",
    "        layer3 = conn1d_layer(reshape2d(layer2), 1.0, n_hidden)\n",
    "        layer4 = conn1d_layer(tf.nn.relu(layer3), 1.0, n_classes)\n",
    "        self.graph = layer4"
   ]
  },
  {
   "cell_type": "code",
   "execution_count": null,
   "metadata": {
    "collapsed": false
   },
   "outputs": [],
   "source": [
    "parameters.patch.side = 5\n",
    "parameters.patch.depth = 16\n",
    "parameters.hidden_nodes = 64\n",
    "\n",
    "network = Network(parameters)"
   ]
  },
  {
   "cell_type": "markdown",
   "metadata": {},
   "source": [
    "### Question 3\n",
    "\n",
    "_What does your final architecture look like? (Type of model, layers, sizes, connectivity, etc.)  For reference on how to build a deep neural network using TensorFlow, see [Deep Neural Network in TensorFlow\n",
    "](https://classroom.udacity.com/nanodegrees/nd013/parts/fbf77062-5703-404e-b60c-95b78b2f3f9e/modules/6df7ae49-c61c-4bb2-a23e-6527e69209ec/lessons/b516a270-8600-4f93-a0a3-20dfeabe5da6/concepts/83a3a2a2-a9bd-4b7b-95b0-eb924ab14432) from the classroom._\n"
   ]
  },
  {
   "cell_type": "markdown",
   "metadata": {},
   "source": [
    "**Answer:**"
   ]
  },
  {
   "cell_type": "code",
   "execution_count": null,
   "metadata": {
    "collapsed": false
   },
   "outputs": [],
   "source": [
    "### Train your model here.\n",
    "### Feel free to use as many code cells as needed.\n",
    "\n",
    "from math import ceil, floor\n",
    "from sys import maxsize\n",
    "\n",
    "from tqdm import tqdm\n",
    "\n",
    "\n",
    "def batches(dataset, l, counter=range):\n",
    "    X = dataset.X\n",
    "    y = dataset.y\n",
    "    n = int(ceil(len(X) / l))\n",
    "    for k in counter(n):\n",
    "        a = k * l\n",
    "        b = a + l\n",
    "        yield (k, X[a:b], y[a:b])\n",
    "\n",
    "\n",
    "def Loss(network):\n",
    "    cross_entropy = tf.nn.softmax_cross_entropy_with_logits(network.graph, network.output)\n",
    "    return tf.reduce_mean(cross_entropy)\n",
    "\n",
    "\n",
    "class Accuracy(object):\n",
    "    def __init__(self, network, data, parameters):\n",
    "        is_correct_prediction = tf.equal(tf.argmax(network.graph, 1), tf.argmax(network.output, 1))\n",
    "        self.graph = tf.reduce_sum(tf.cast(is_correct_prediction, tf.float32))\n",
    "        self.inputs = network.inputs\n",
    "        self.output = network.output\n",
    "\n",
    "        self.data = data\n",
    "        self.batch_size = parameters.batch.size\n",
    "\n",
    "    def __call__(self, session):\n",
    "        inputs = self.inputs\n",
    "        output = self.output\n",
    "        graph = self.graph\n",
    "        l = self.batch_size\n",
    "\n",
    "        def accuracy(dataset):\n",
    "            total = 0.0\n",
    "            count = 0.0\n",
    "            for (k, X_k, y_k) in batches(dataset, l):\n",
    "                total += session.run(graph, feed_dict={inputs: X_k, output: y_k})\n",
    "                count += len(X_k)\n",
    "\n",
    "            return total / count\n",
    "\n",
    "        return (\n",
    "            accuracy(self.data.train),\n",
    "            accuracy(self.data.valid)\n",
    "        )\n",
    "\n",
    "    \n",
    "def plot_lines(title, x, *ys, **options):\n",
    "    y_min = maxsize\n",
    "    y_max = -maxsize\n",
    "\n",
    "    plotter = plt.subplot(111)\n",
    "    for (y, c, l) in ys:\n",
    "        label = '%s (last: %.4f)' % (l, y[-1])\n",
    "        plotter.plot(x, y, c, label=label)\n",
    "        y_min = min(floor(np.min(y)), y_min)\n",
    "        y_max = max(ceil(np.max(y)), y_max)\n",
    "\n",
    "    plotter.set_title(title)\n",
    "    plotter.set_xlim([x[0], x[-1]])\n",
    "    plotter.set_ylim([y_min, y_max])\n",
    "    plotter.legend(loc=options.get('loc', 1))\n",
    "    #plotter.legend()\n",
    "    plt.tight_layout()\n",
    "    plt.show()\n",
    "\n",
    "\n",
    "def train(network, data, parameters):\n",
    "    batch_size = parameters.batch.size\n",
    "    batch_step = parameters.batch.step\n",
    "    learning_rate = parameters.learning_rate\n",
    "    epochs = parameters.epochs\n",
    "\n",
    "    inputs = network.inputs\n",
    "    output = network.output\n",
    "    loss = Loss(network)\n",
    "    optimizer = tf.train.GradientDescentOptimizer(learning_rate).minimize(loss)    \n",
    "    accuracy = Accuracy(network, data, parameters)\n",
    "    init = tf.initialize_all_variables()\n",
    "\n",
    "    x_batch = []\n",
    "    y_train = []\n",
    "    y_valid = []\n",
    "    y_loss = []\n",
    "    with tf.Session() as session:\n",
    "        session.run(init)\n",
    "        for i in range(epochs):\n",
    "            counter = lambda n: tqdm(range(n), desc='Epoch {:>2}/{}'.format(i + 1, epochs), unit='batches')\n",
    "            for (k, X_k, y_k) in batches(data.train, batch_size, counter):\n",
    "                (_, l) = session.run([optimizer, loss], feed_dict={inputs: X_k, output: y_k})\n",
    "\n",
    "                if k % batch_step == 0:\n",
    "                    (a_train, a_valid) = accuracy(session)\n",
    "                    x_batch.append(len(x_batch) * batch_step)\n",
    "                    y_train.append(a_train)\n",
    "                    y_valid.append(a_valid)\n",
    "                    y_loss.append(l)\n",
    "\n",
    "            plot_lines('Loss', x_batch,\n",
    "                (y_loss, 'g', 'Loss')\n",
    "            )\n",
    "\n",
    "            plot_lines('Accuracy', x_batch,\n",
    "                (y_train, 'r', 'Training Accuracy'),\n",
    "                (y_valid, 'b', 'Validation Accuracy'),\n",
    "                loc=4\n",
    "            )\n",
    "\n",
    "\n",
    "def train_main():\n",
    "    data = Attributes()\n",
    "    data.train = Preprocessed('Train', 'datasets/pickled/train.p')\n",
    "    data.tests = Preprocessed('Test', 'datasets/pickled/test.p')\n",
    "\n",
    "    parameters = Parameters()\n",
    "    parameters.inputs.side = data.train.X[0].shape[0]\n",
    "    parameters.inputs.depth = 1\n",
    "    parameters.output.classes = len(data.train.stats().classes)\n",
    "    parameters.patch.side = 5\n",
    "    parameters.patch.depth = 16\n",
    "    parameters.hidden_nodes = 64\n",
    "    parameters.batch.size = len(data.train) // 500\n",
    "    parameters.batch.step = 10\n",
    "    parameters.learning_rate = 0.05\n",
    "    parameters.epochs = 5\n",
    "\n",
    "    (data.train, data.valid) = split(data.train)\n",
    "    \n",
    "    network = Network(parameters)\n",
    "    train(network, data, parameters)"
   ]
  },
  {
   "cell_type": "code",
   "execution_count": null,
   "metadata": {
    "collapsed": false
   },
   "outputs": [],
   "source": [
    "train_main()"
   ]
  },
  {
   "cell_type": "markdown",
   "metadata": {},
   "source": [
    "### Question 4\n",
    "\n",
    "_How did you train your model? (Type of optimizer, batch size, epochs, hyperparameters, etc.)_\n"
   ]
  },
  {
   "cell_type": "markdown",
   "metadata": {},
   "source": [
    "**Answer:**"
   ]
  },
  {
   "cell_type": "markdown",
   "metadata": {},
   "source": [
    "### Question 5\n",
    "\n",
    "\n",
    "_What approach did you take in coming up with a solution to this problem?_"
   ]
  },
  {
   "cell_type": "markdown",
   "metadata": {},
   "source": [
    "**Answer:**"
   ]
  },
  {
   "cell_type": "markdown",
   "metadata": {},
   "source": [
    "---\n",
    "\n",
    "## Step 3: Test a Model on New Images\n",
    "\n",
    "Take several pictures of traffic signs that you find on the web or around you (at least five), and run them through your classifier on your computer to produce example results. The classifier might not recognize some local signs but it could prove interesting nonetheless.\n",
    "\n",
    "You may find `signnames.csv` useful as it contains mappings from the class id (integer) to the actual sign name."
   ]
  },
  {
   "cell_type": "markdown",
   "metadata": {},
   "source": [
    "### Implementation\n",
    "\n",
    "Use the code cell (or multiple code cells, if necessary) to implement the first step of your project. Once you have completed your implementation and are satisfied with the results, be sure to thoroughly answer the questions that follow."
   ]
  },
  {
   "cell_type": "code",
   "execution_count": null,
   "metadata": {
    "collapsed": true
   },
   "outputs": [],
   "source": [
    "### Load the images and plot them here.\n",
    "### Feel free to use as many code cells as needed."
   ]
  },
  {
   "cell_type": "markdown",
   "metadata": {},
   "source": [
    "### Question 6\n",
    "\n",
    "_Choose five candidate images of traffic signs and provide them in the report. Are there any particular qualities of the image(s) that might make classification difficult? It would be helpful to plot the images in the notebook._\n",
    "\n"
   ]
  },
  {
   "cell_type": "markdown",
   "metadata": {},
   "source": [
    "**Answer:**"
   ]
  },
  {
   "cell_type": "code",
   "execution_count": null,
   "metadata": {
    "collapsed": true
   },
   "outputs": [],
   "source": [
    "### Run the predictions here.\n",
    "### Feel free to use as many code cells as needed."
   ]
  },
  {
   "cell_type": "markdown",
   "metadata": {},
   "source": [
    "### Question 7\n",
    "\n",
    "_Is your model able to perform equally well on captured pictures or a live camera stream when compared to testing on the dataset?_\n"
   ]
  },
  {
   "cell_type": "markdown",
   "metadata": {},
   "source": [
    "**Answer:**"
   ]
  },
  {
   "cell_type": "code",
   "execution_count": null,
   "metadata": {
    "collapsed": true
   },
   "outputs": [],
   "source": [
    "### Visualize the softmax probabilities here.\n",
    "### Feel free to use as many code cells as needed."
   ]
  },
  {
   "cell_type": "markdown",
   "metadata": {},
   "source": [
    "### Question 8\n",
    "\n",
    "*Use the model's softmax probabilities to visualize the **certainty** of its predictions, [`tf.nn.top_k`](https://www.tensorflow.org/versions/r0.11/api_docs/python/nn.html#top_k) could prove helpful here. Which predictions is the model certain of? Uncertain? If the model was incorrect in its initial prediction, does the correct prediction appear in the top k? (k should be 5 at most)*\n"
   ]
  },
  {
   "cell_type": "markdown",
   "metadata": {},
   "source": [
    "**Answer:**"
   ]
  },
  {
   "cell_type": "markdown",
   "metadata": {},
   "source": [
    "### Question 9\n",
    "_If necessary, provide documentation for how an interface was built for your model to load and classify newly-acquired images._\n"
   ]
  },
  {
   "cell_type": "markdown",
   "metadata": {},
   "source": [
    "**Answer:**"
   ]
  },
  {
   "cell_type": "markdown",
   "metadata": {},
   "source": [
    "> **Note**: Once you have completed all of the code implementations and successfully answered each question above, you may finalize your work by exporting the iPython Notebook as an HTML document. You can do this by using the menu above and navigating to  \\n\",\n",
    "    \"**File -> Download as -> HTML (.html)**. Include the finished document along with this notebook as your submission."
   ]
  },
  {
   "cell_type": "code",
   "execution_count": null,
   "metadata": {
    "collapsed": true
   },
   "outputs": [],
   "source": []
  }
 ],
 "metadata": {
  "anaconda-cloud": {},
  "kernelspec": {
   "display_name": "Python [default]",
   "language": "python",
   "name": "python3"
  },
  "language_info": {
   "codemirror_mode": {
    "name": "ipython",
    "version": 3
   },
   "file_extension": ".py",
   "mimetype": "text/x-python",
   "name": "python",
   "nbconvert_exporter": "python",
   "pygments_lexer": "ipython3",
   "version": "3.5.2"
  }
 },
 "nbformat": 4,
 "nbformat_minor": 1
}
