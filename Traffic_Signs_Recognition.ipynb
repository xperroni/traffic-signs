{
 "cells": [
  {
   "cell_type": "markdown",
   "metadata": {},
   "source": [
    "# Self-Driving Car Engineer Nanodegree\n",
    "\n",
    "## Deep Learning\n",
    "\n",
    "## Project: Build a Traffic Sign Recognition Classifier\n",
    "\n",
    "In this notebook, a template is provided for you to implement your functionality in stages which is required to successfully complete this project. If additional code is required that cannot be included in the notebook, be sure that the Python code is successfully imported and included in your submission, if necessary. Sections that begin with **'Implementation'** in the header indicate where you should begin your implementation for your project. Note that some sections of implementation are optional, and will be marked with **'Optional'** in the header.\n",
    "\n",
    "In addition to implementing code, there will be questions that you must answer which relate to the project and your implementation. Each section where you will answer a question is preceded by a **'Question'** header. Carefully read each question and provide thorough answers in the following text boxes that begin with **'Answer:'**. Your project submission will be evaluated based on your answers to each of the questions and the implementation you provide.\n",
    "\n",
    ">**Note:** Code and Markdown cells can be executed using the **Shift + Enter** keyboard shortcut. In addition, Markdown cells can be edited by typically double-clicking the cell to enter edit mode."
   ]
  },
  {
   "cell_type": "code",
   "execution_count": 1,
   "metadata": {
    "collapsed": true
   },
   "outputs": [],
   "source": [
    "### Basic notebook setup and utilities.\n",
    "\n",
    "\n",
    "# Whether to run functions that demonstrate parts of the project.\n",
    "#__demos__ = True\n",
    "__demos__ = False\n",
    "\n",
    "class Attributes(object):\n",
    "    r'''Dynamic collection of named attributes.\n",
    "    '''\n",
    "    def __setattr__(self, name, value):\n",
    "        object.__setattr__(self, name, value)"
   ]
  },
  {
   "cell_type": "markdown",
   "metadata": {},
   "source": [
    "---\n",
    "\n",
    "## Step 1: Dataset Exploration\n",
    "\n",
    "Visualize the German Traffic Signs Dataset. This is open ended, some suggestions include: plotting traffic signs images, plotting the count of each sign, etc. Be creative!\n",
    "\n",
    "\n",
    "The pickled data is a dictionary with 4 key/value pairs:\n",
    "\n",
    "- features -> the images pixel values, (width, height, channels)\n",
    "- labels -> the label of the traffic sign\n",
    "- sizes -> the original width and height of the image, (width, height)\n",
    "- coords -> coordinates of a bounding box around the sign in the image, (x1, y1, x2, y2)"
   ]
  },
  {
   "cell_type": "code",
   "execution_count": 2,
   "metadata": {
    "collapsed": false
   },
   "outputs": [],
   "source": [
    "### Basic dataset manipulation classes.\n",
    "\n",
    "import pickle\n",
    "from collections import defaultdict\n",
    "\n",
    "import numpy as np\n",
    "\n",
    "\n",
    "class Data(object):\n",
    "    r'''Base class for single-type data collection classes.\n",
    "    '''\n",
    "    def __init__(self, data):\n",
    "        self.data = data\n",
    "    \n",
    "    def __getitem__(self, index):\n",
    "        return self.data[index]\n",
    "    \n",
    "    def __len__(self):\n",
    "        return len(self.data)\n",
    "\n",
    "    def extend(self, data):\n",
    "        self.data = np.concatenate([self.data, data])\n",
    "    \n",
    "    @property\n",
    "    def shape(self):\n",
    "        return self.data.shape\n",
    "\n",
    "\n",
    "class Images(Data):\n",
    "    r'''Collection of RGB images, represented as 3D arrays of unsigned 8-bit integers.\n",
    "    '''\n",
    "    def __init__(self, data):\n",
    "        Data.__init__(self, data)\n",
    "    \n",
    "    def image(self, index):\n",
    "        return self[index]\n",
    "    \n",
    "    \n",
    "class Labels(Data):\n",
    "    r'''Collection of class labels, represented as integer values.\n",
    "    '''\n",
    "    def __init__(self, data, breadth):\n",
    "        Data.__init__(self, data)\n",
    "        self.breadth = breadth\n",
    "        if breadth == None:\n",
    "            n = range(len(self))\n",
    "            classes = set(self.classof(i) for i in n)\n",
    "            self.breadth = len(classes)\n",
    "\n",
    "    def classof(self, index):\n",
    "        return self[index]\n",
    "    \n",
    "    @property\n",
    "    def classes(self):\n",
    "        classes = dict((c, []) for c in range(self.breadth))\n",
    "        for i in range(len(self)):\n",
    "            k = self.classof(i)\n",
    "            classes[k].append(i)\n",
    "        \n",
    "        return classes\n",
    "\n",
    "\n",
    "class Dataset(object):\n",
    "    r'''A collection of data cases and associated class identifiers.\n",
    "    '''\n",
    "    def __init__(self, *args, **kwargs):\n",
    "        r'''Create a new dataset instance.\n",
    "        \n",
    "            Datasets can be loaded from files, for example:\n",
    "        \n",
    "                dataset = Dataset('title', 'path/to/pickled_file.p')\n",
    "            \n",
    "            They can also be created from other datasets:\n",
    "            \n",
    "                dataset = Dataset(other_dataset)\n",
    "            \n",
    "            or\n",
    "            \n",
    "                dataset = Dataset(title, X, y)\n",
    "        '''\n",
    "        if len(args) == 1:\n",
    "            self.__assign(args[0])\n",
    "        elif len(args) == 2:\n",
    "            self.__load(args[0], args[1], kwargs)\n",
    "        elif len(args) == 3:\n",
    "            self.title = args[0]\n",
    "            self.X = args[1]\n",
    "            self.y = args[2]\n",
    "        else:\n",
    "            raise Exception('Invalid argument list: %s' % str(args))\n",
    "\n",
    "    def __assign(self, dataset):\n",
    "        self.title = dataset.title\n",
    "        self.X = dataset.X\n",
    "        self.y = dataset.y\n",
    "\n",
    "    def __load(self, title, path, kwargs):\n",
    "        with open(path, mode='rb') as data:\n",
    "            self.title = title\n",
    "            dataset = pickle.load(data)\n",
    "            self.X = Images(dataset['features'])\n",
    "            self.y = Labels(dataset['labels'], kwargs.get('breadth'))\n",
    "\n",
    "    def __len__(self):\n",
    "        return len(self.X)\n",
    "    \n",
    "    def __str__(self):\n",
    "        template = (\n",
    "            '%s dataset\\n'\n",
    "            'Number of entries: %d\\n'\n",
    "            'Input shape: %s\\n'\n",
    "            'Output shape: %s\\n'\n",
    "            'Number of classes: %d\\n'\n",
    "        )\n",
    "        \n",
    "        return template % (\n",
    "            self.title,\n",
    "            len(self),\n",
    "            str(self.X.shape[1:]),\n",
    "            str(self.y.shape[1:]),\n",
    "            self.y.breadth\n",
    "        )\n",
    "\n",
    "\n",
    "def Parameters():\n",
    "    r'''Create a new set of parameters for a neural network training problem.\n",
    "    '''\n",
    "    parameters = Attributes()\n",
    "    parameters.inputs = Attributes()\n",
    "    parameters.output = Attributes()\n",
    "    parameters.patch = Attributes()\n",
    "    parameters.batch = Attributes()\n",
    "    return parameters\n",
    "\n",
    "\n",
    "def load_datasets():\n",
    "    data = Attributes()\n",
    "    data.train = Dataset('Train', 'datasets/pickled/train.p')\n",
    "    data.test = Dataset('Test', 'datasets/pickled/test.p', breadth=data.train.y.breadth)\n",
    "    return data\n",
    "\n",
    "\n",
    "def print_datasets(data):\n",
    "    for dataset in vars(data).values():\n",
    "        print(dataset)"
   ]
  },
  {
   "cell_type": "code",
   "execution_count": 3,
   "metadata": {
    "collapsed": false
   },
   "outputs": [],
   "source": [
    "### To start off let's do a basic data summary.\n",
    "if __demos__ == True:\n",
    "    print_datasets(load_datasets())"
   ]
  },
  {
   "cell_type": "code",
   "execution_count": 4,
   "metadata": {
    "collapsed": false,
    "scrolled": true
   },
   "outputs": [],
   "source": [
    "### Data visualization facilities.\n",
    "\n",
    "import csv\n",
    "from random import sample\n",
    "\n",
    "from matplotlib import pyplot as plt\n",
    "from matplotlib import cm\n",
    "\n",
    "\n",
    "# Widen the page region used for plots\n",
    "plt.rcParams['figure.figsize'] = (9.0, 4.0) # Otiginal: (6.0, 4.0)\n",
    "\n",
    "\n",
    "class Displayer(object):\n",
    "    def __init__(self, path):\n",
    "        with open(path) as csv_file:\n",
    "            csv_data = csv.reader(csv_file)\n",
    "            next(csv_data) # Discard column title row\n",
    "            self.labels = dict((int(row[0]), str(row[1])) for row in csv_data)\n",
    "\n",
    "    def __call__(self, dataset, k=5):\n",
    "        r'''Display `k` samples of each class from the given dataset.\n",
    "        '''\n",
    "        n = len(dataset)\n",
    "\n",
    "        print('\\n\\n  %s' % ('-' * 80))\n",
    "        print('  %s dataset (total %d entries)' % (dataset.title, n))\n",
    "        print('  %s\\n\\n' % ('-' * 80))\n",
    "\n",
    "        labels = self.labels\n",
    "        classes = dataset.y.classes\n",
    "\n",
    "        for c in range(len(classes)):\n",
    "            indexes = classes[c]\n",
    "            print('  Class %d (\"%s\", total %d entries) samples:' % (c, labels[c], len(indexes)))\n",
    "            if len(indexes) >= k:\n",
    "                s = sample(indexes, k)\n",
    "                self.display_signs(dataset, s)\n",
    "\n",
    "    def display_signs(self, dataset, indexes):\n",
    "        r'''Display the indexed sign images and corresponding labels side by side.\n",
    "        '''\n",
    "        n = len(indexes)\n",
    "        for i in range(n):\n",
    "            plotter = plt.subplot2grid((1, n), (0, i))\n",
    "            self.display_sign(plotter, dataset, indexes[i])\n",
    "\n",
    "        plt.tight_layout()\n",
    "        plt.show()\n",
    "\n",
    "    def display_sign(self, plotter, dataset, i):\n",
    "        r'''Display a sign image and corresponding numeric label.\n",
    "        '''\n",
    "        plotter.imshow(dataset.X.image(i))\n",
    "        plotter.xaxis.set_visible(False)\n",
    "        plotter.yaxis.set_visible(False)\n",
    "        plotter.title.set_text(str(i))\n",
    "\n",
    "\n",
    "display = Displayer('datasets/signnames.csv')\n",
    "\n",
    "\n",
    "def display_datasets(data):\n",
    "    display(data.train)\n",
    "    display(data.test)"
   ]
  },
  {
   "cell_type": "code",
   "execution_count": 5,
   "metadata": {
    "collapsed": false,
    "scrolled": true
   },
   "outputs": [],
   "source": [
    "### Display summary statistics and samples for the training and test datasets.\n",
    "if __demos__ == True:\n",
    "    display_datasets(load_datasets())"
   ]
  },
  {
   "cell_type": "markdown",
   "metadata": {},
   "source": [
    "----\n",
    "\n",
    "## Step 2: Design and Test a Model Architecture\n",
    "\n",
    "Design and implement a deep learning model that learns to recognize traffic signs. Train and test your model on the [German Traffic Sign Dataset](http://benchmark.ini.rub.de/?section=gtsrb&subsection=dataset).\n",
    "\n",
    "There are various aspects to consider when thinking about this problem:\n",
    "\n",
    "- Your model can be derived from a deep feedforward net or a deep convolutional network.\n",
    "- Play around preprocessing techniques (normalization, rgb to grayscale, etc)\n",
    "- Number of examples per label (some have more than others).\n",
    "- Generate fake data.\n",
    "\n",
    "Here is an example of a [published baseline model on this problem](http://yann.lecun.com/exdb/publis/pdf/sermanet-ijcnn-11.pdf). It's not required to be familiar with the approach used in the paper but, it's good practice to try to read papers like these."
   ]
  },
  {
   "cell_type": "markdown",
   "metadata": {},
   "source": [
    "### Implementation\n",
    "\n",
    "Use the code cell (or multiple code cells, if necessary) to implement the first step of your project. Once you have completed your implementation and are satisfied with the results, be sure to thoroughly answer the questions that follow."
   ]
  },
  {
   "cell_type": "code",
   "execution_count": 6,
   "metadata": {
    "collapsed": false,
    "scrolled": true
   },
   "outputs": [],
   "source": [
    "### Data preprocessing facilities.\n",
    "\n",
    "from itertools import product\n",
    "\n",
    "\n",
    "class Tensors(Images):\n",
    "    r'''Collection of multi-dimensional vectors.\n",
    "    '''\n",
    "    def __init__(self, values):\n",
    "        Images.__init__(self, values.astype(np.float32))\n",
    "    \n",
    "    def image(self, index):\n",
    "        x = self[index]\n",
    "        image = np.zeros(x.shape, dtype=np.uint8)\n",
    "        for d in range(3):\n",
    "            channel = np.array(x[:, :, d])\n",
    "            channel -= channel.min()\n",
    "            channel *= (255.0 / channel.max())\n",
    "            image[:, :, d] = channel.astype(np.uint8)\n",
    "        \n",
    "        return image\n",
    "\n",
    "    \n",
    "class Likelihoods(Labels):\n",
    "    r'''Collection of vectors indicating the likelihoods an input belongs to each of a set of classes.\n",
    "    '''\n",
    "    def __init__(self, data, breadth):\n",
    "        Labels.__init__(self, data, breadth)\n",
    "        if len(data.shape) == 1:\n",
    "            self.data = (np.arange(self.breadth) == data[:, None]).astype(np.float32)\n",
    "\n",
    "    def classof(self, index):\n",
    "        return np.argmax(self[index])\n",
    "\n",
    "    \n",
    "class Vectorized(Dataset):\n",
    "    r'''A dataset where both inputs and outputs are represented as floating-point arrays.\n",
    "    '''\n",
    "    def __init__(self, *args, **kwargs):\n",
    "        Dataset.__init__(self, *args, **kwargs)\n",
    "        self.X = Tensors(self.X.data)\n",
    "        self.y = Likelihoods(self.y.data, self.y.breadth)\n",
    "\n",
    "\n",
    "class Normalized(Dataset):\n",
    "    def __init__(self, *args, **kwargs):\n",
    "        Dataset.__init__(self, *args, **kwargs)\n",
    "\n",
    "        X = self.X\n",
    "        n = X.shape[0]\n",
    "        d = X.shape[-1]\n",
    "        for (i, j) in product(range(n), range(d)):\n",
    "            channel = X[i, :, :, j]\n",
    "            channel -= channel.mean()\n",
    "            channel /= channel.std()\n",
    "\n",
    "\n",
    "def load_preprocessed():\n",
    "    data = load_datasets()\n",
    "    data.train = Normalized(Vectorized(data.train))\n",
    "    data.test = Normalized(Vectorized(data.test))\n",
    "    return data"
   ]
  },
  {
   "cell_type": "code",
   "execution_count": 7,
   "metadata": {
    "collapsed": false
   },
   "outputs": [],
   "source": [
    "# Preprocess training and test datasets.\n",
    "if __demos__ == True:\n",
    "    print_datasets(load_preprocessed())"
   ]
  },
  {
   "cell_type": "markdown",
   "metadata": {},
   "source": [
    "### Question 1 \n",
    "\n",
    "_Describe the techniques used to preprocess the data._"
   ]
  },
  {
   "cell_type": "markdown",
   "metadata": {},
   "source": [
    "**Answer:**\n",
    "\n",
    "In order to ensure numeric stability and make the associated optimizaton problem well-conditioned [[^](https://www.youtube.com/watch?v=0mxNQA95mYE)], inputs are normalized to zero mean and unit standard deviation. This is done simply by converting images to floating-point multidimensional arrays and then normalizing each channel separately. Outputs are also preprocessed here, converted from integer label indicators to one hot-encoded vectors, for use later on training."
   ]
  },
  {
   "cell_type": "code",
   "execution_count": 8,
   "metadata": {
    "collapsed": false
   },
   "outputs": [],
   "source": [
    "### Separate a validation subset from the training dataset.\n",
    "\n",
    "from random import choice, triangular\n",
    "\n",
    "from scipy.misc import imrotate\n",
    "from sklearn.cross_validation import train_test_split\n",
    "\n",
    "\n",
    "class Culled(Dataset):\n",
    "    r'''A dataset where classes are culled down to a common size.\n",
    "    '''\n",
    "    def __init__(self, *args, **kwargs):\n",
    "        Dataset.__init__(self, *args, **kwargs)\n",
    "        classes = self.y.classes.values()\n",
    "        n_min = np.min([len(cases) for cases in classes])\n",
    "        X = self.X\n",
    "        y = self.y\n",
    "        \n",
    "        X_cull = []\n",
    "        y_cull = []\n",
    "        for cases in classes:\n",
    "            for k in sample(cases, n_min):\n",
    "                X_cull.append(X[k])\n",
    "                y_cull.append(y[k])\n",
    "                \n",
    "        X.data = np.array(X_cull)\n",
    "        y.data = np.array(y_cull)\n",
    "\n",
    "\n",
    "def logistic(x, x0, k, l):\n",
    "    return l / (1.0 + np.exp(-k * (x - x0)))\n",
    "\n",
    "\n",
    "def jiggle(data, r_l = 2.0, r_roll=5, r_degs=10):\n",
    "    r'''Perform slight changes to the input array.\n",
    "    \n",
    "        Input images are randomly multiplied by a brightness mask,\n",
    "        rolled around the horizontal and vertical axes, and rotated.\n",
    "    '''\n",
    "    shape = data.shape[:2]\n",
    "    (m, n) = shape\n",
    "\n",
    "    xr = int(triangular(-r_roll, r_roll))\n",
    "    yr = int(triangular(-r_roll, r_roll))\n",
    "\n",
    "    (x, y) = np.indices(shape)\n",
    "    x0 = triangular(0, n - 1)\n",
    "    y0 = triangular(0, m - 1)\n",
    "\n",
    "    l = ((x - x0) ** 2.0 + (y - y0) ** 2.0) ** 0.5\n",
    "    l -= triangular(0, l.max())\n",
    "    l *= choice([-1, 1])\n",
    "    l = logistic(l, 0, 0.1, r_l) + (1.0 / r_l)\n",
    "    l = np.dstack([l, l, l])\n",
    "        \n",
    "    degs = triangular(-r_degs, r_degs)\n",
    "\n",
    "    data *= l\n",
    "    data = np.roll(data, yr, axis=0)\n",
    "    data = np.roll(data, xr, axis=1)\n",
    "    data = imrotate(data, degs)\n",
    "    return data\n",
    "\n",
    "\n",
    "def padding(dataset, **kwargs):\n",
    "    r'''Generate a dataset with randomly modified data items from the source dataset.\n",
    "    \n",
    "        Items are generated in inverse class distribution relative to the source dataset,\n",
    "        so that no items are generated for the most numerous class, and the least numerous\n",
    "        is given the most items.\n",
    "    '''\n",
    "    classes = dataset.y.classes.values()\n",
    "    n_max = np.max([len(cases) for cases in classes])\n",
    "    X = dataset.X\n",
    "    y = dataset.y\n",
    "\n",
    "    X_extra = []\n",
    "    y_extra = []\n",
    "    for cases in classes:\n",
    "        n = len(cases)\n",
    "        for i in range(n_max - n):\n",
    "            k = choice(cases)\n",
    "            X_extra.append(jiggle(X[k], **kwargs))\n",
    "            y_extra.append(y[k])\n",
    "\n",
    "            \n",
    "    DataX = X.__class__\n",
    "    DataY = y.__class__\n",
    "    breadth = dataset.y.breadth\n",
    "    \n",
    "    return Dataset('Padding', DataX(np.array(X_extra)), DataY(np.array(y_extra), breadth))\n",
    "\n",
    "\n",
    "class Padded(Dataset):\n",
    "    r'''A dataset where all classes are guaranteed to have the same case count.\n",
    "    \n",
    "        If some classes in the original dataset contain more cases than others,\n",
    "        extra cases are generated through random transformations, until all\n",
    "        classes have the same number of cases.\n",
    "    '''\n",
    "    def __init__(self, *args, **kwargs):\n",
    "        Dataset.__init__(self, *args, **kwargs)\n",
    "        classes = self.y.classes.values()\n",
    "        n_max = np.max([len(cases) for cases in classes])\n",
    "        X = self.X\n",
    "        y = self.y\n",
    "        \n",
    "        X_extra = []\n",
    "        y_extra = []\n",
    "        for cases in classes:\n",
    "            n = len(cases)\n",
    "            for i in range(n_max - n):\n",
    "                k = choice(cases)\n",
    "                X_extra.append(jiggle(X[k], **kwargs))\n",
    "                y_extra.append(y[k])\n",
    "                \n",
    "        self.X.extend(X_extra)\n",
    "        self.y.extend(y_extra)\n",
    "\n",
    "\n",
    "def split(dataset, rate=0.3):\n",
    "    X = dataset.X\n",
    "    y = dataset.y\n",
    "    \n",
    "    DataX = X.__class__\n",
    "    DataY = y.__class__\n",
    "\n",
    "    (X_train, X_valid, y_train, y_valid) = train_test_split(\n",
    "        X.data,\n",
    "        y.data,\n",
    "        test_size=rate,\n",
    "        random_state=832289\n",
    "    )\n",
    "    \n",
    "    breadth = dataset.y.breadth\n",
    "    return (\n",
    "        Dataset('Train', DataX(X_train), DataY(y_train, breadth)),\n",
    "        Dataset('Validate', DataX(X_valid), DataY(y_valid, breadth))\n",
    "    )\n",
    "\n",
    "\n",
    "def split_padded_train(data):\n",
    "    (data.train, data.valid) = split(Padded(data.train))\n",
    "    return data"
   ]
  },
  {
   "cell_type": "code",
   "execution_count": 9,
   "metadata": {
    "collapsed": false
   },
   "outputs": [],
   "source": [
    "if __demos__ == True:\n",
    "    print_datasets(split_padded_train(load_preprocessed()))\n",
    "    display(padding(load_preprocessed().train))"
   ]
  },
  {
   "cell_type": "markdown",
   "metadata": {},
   "source": [
    "### Question 2\n",
    "\n",
    "_Describe how you set up the training, validation and testing data for your model. If you generated additional data, why?_"
   ]
  },
  {
   "cell_type": "markdown",
   "metadata": {},
   "source": [
    "**Answer:**"
   ]
  },
  {
   "cell_type": "code",
   "execution_count": 17,
   "metadata": {
    "collapsed": false
   },
   "outputs": [],
   "source": [
    "### Define your architecture here.\n",
    "### Feel free to use as many code cells as needed.\n",
    "\n",
    "import tensorflow as tf\n",
    "\n",
    "\n",
    "def weights(*shape):\n",
    "    return tf.Variable(tf.truncated_normal(list(shape), stddev=0.1))\n",
    "\n",
    "\n",
    "def bias(b, n):\n",
    "    return tf.Variable(tf.constant(b, shape=[n]))\n",
    "\n",
    "\n",
    "def layer_depth(layer):\n",
    "    return layer.get_shape().as_list()[-1]\n",
    "\n",
    "\n",
    "def layer_2d(layer):\n",
    "    shape = layer.get_shape()\n",
    "    shape = [-1, shape[1:].num_elements()]\n",
    "    return tf.reshape(layer, shape)\n",
    "\n",
    "\n",
    "def layer_connected(layer, b, n):\n",
    "    m = layer_depth(layer)\n",
    "    return tf.matmul(layer, weights(m, n)) + bias(b, n)\n",
    "\n",
    "\n",
    "def layer_convolved(layer, side, depth, stride=1, padding='SAME', b=None):\n",
    "    strides = [1, stride, stride, 1]\n",
    "    W = weights(side, side, layer_depth(layer), depth)\n",
    "    C = tf.nn.conv2d(layer, W, strides, padding)\n",
    "    B = weights(depth) if b == None else bias(b, depth)\n",
    "    return C + B\n",
    "\n",
    "\n",
    "# Architecture and parameters taken from:\n",
    "# https://hackathonprojects.wordpress.com/2016/09/25/inception-modules-explained-and-implemented/\n",
    "def inception_module(inputs, depth_1x1, depth_out):\n",
    "    def conv_1x1(layer=inputs, depth=depth_out):\n",
    "        return layer_convolved(layer, 1, depth)\n",
    "    \n",
    "    def conv_3x3():\n",
    "        reduced = tf.nn.relu(conv_1x1(inputs, depth_1x1))\n",
    "        return layer_convolved(reduced, 3, depth_out)\n",
    "    \n",
    "    def conv_5x5():\n",
    "        reduced = tf.nn.relu(conv_1x1(inputs, depth_1x1))\n",
    "        return layer_convolved(reduced, 5, depth_out)\n",
    "    \n",
    "    def max_pool():\n",
    "        pooled = tf.nn.max_pool(inputs, [1, 3, 3, 1], [1, 1, 1, 1], 'SAME')\n",
    "        return conv_1x1(pooled, depth_out)\n",
    "\n",
    "    return tf.nn.relu(tf.concat(3, [conv_1x1(), conv_3x3(), conv_5x5(), max_pool()]))\n",
    "    \n",
    "\n",
    "class Network(object):\n",
    "    def __init__(self, parameters):\n",
    "        l_input = parameters.inputs.side\n",
    "        d_input = parameters.inputs.depth\n",
    "        d_patch = parameters.patch.depth\n",
    "        n_hidden = parameters.hidden_nodes\n",
    "        n_classes = parameters.output.classes\n",
    "        \n",
    "        with tf.Graph().as_default(): # ensures variable names are consistent across network instances\n",
    "            self.inputs = tf.placeholder(tf.float32, shape=(None, l_input, l_input, d_input))\n",
    "\n",
    "            layer = inception_module(self.inputs, d_patch // 2, d_patch)\n",
    "            layer = inception_module(layer, d_patch // 2, d_patch)\n",
    "            layer = layer_connected(layer_2d(layer), 1.0, n_hidden)\n",
    "            layer = layer_connected(tf.nn.relu(layer), 1.0, n_classes)\n",
    "\n",
    "            self.outputs = layer\n",
    "            self.argmax = tf.argmax(layer, 1)\n",
    "            self.session = tf.Session()\n",
    "\n",
    "    def __call__(self, X):\n",
    "        return self.session.run(self.argmax, feed_dict={self.inputs: X})\n",
    "    \n",
    "    def init_variables(self):\n",
    "        with self.session.graph.as_default():\n",
    "            init = tf.initialize_all_variables()\n",
    "            self.session.run(init)            \n",
    "\n",
    "    \n",
    "def default_parameters():\n",
    "    parameters = Parameters()\n",
    "    parameters.inputs.side = 32\n",
    "    parameters.inputs.depth = 3\n",
    "    parameters.output.classes = 43\n",
    "    parameters.patch.side = 5\n",
    "    #parameters.patch.depth = 32\n",
    "    parameters.patch.depth = 6\n",
    "    parameters.hidden_nodes = 64\n",
    "    parameters.batch.size = 50\n",
    "    parameters.batch.step = 10\n",
    "    parameters.learning_rate = 0.1\n",
    "    #parameters.learning_rate = 1e-4\n",
    "    parameters.epochs = 5\n",
    "    return parameters\n",
    "\n",
    "\n",
    "def default_network():\n",
    "    return Network(default_parameters())"
   ]
  },
  {
   "cell_type": "code",
   "execution_count": 11,
   "metadata": {
    "collapsed": false
   },
   "outputs": [],
   "source": [
    "if __demos__ == True:\n",
    "    default_network()"
   ]
  },
  {
   "cell_type": "markdown",
   "metadata": {},
   "source": [
    "### Question 3\n",
    "\n",
    "_What does your final architecture look like? (Type of model, layers, sizes, connectivity, etc.)  For reference on how to build a deep neural network using TensorFlow, see [Deep Neural Network in TensorFlow\n",
    "](https://classroom.udacity.com/nanodegrees/nd013/parts/fbf77062-5703-404e-b60c-95b78b2f3f9e/modules/6df7ae49-c61c-4bb2-a23e-6527e69209ec/lessons/b516a270-8600-4f93-a0a3-20dfeabe5da6/concepts/83a3a2a2-a9bd-4b7b-95b0-eb924ab14432) from the classroom._\n"
   ]
  },
  {
   "cell_type": "markdown",
   "metadata": {},
   "source": [
    "**Answer:**"
   ]
  },
  {
   "cell_type": "code",
   "execution_count": 22,
   "metadata": {
    "collapsed": false
   },
   "outputs": [],
   "source": [
    "### Train your model here.\n",
    "### Feel free to use as many code cells as needed.\n",
    "\n",
    "from math import ceil, floor\n",
    "from sys import maxsize\n",
    "\n",
    "from tqdm import tqdm\n",
    "\n",
    "\n",
    "def batches(dataset, l, counter=range):\n",
    "    X = dataset.X\n",
    "    y = dataset.y\n",
    "    n = int(ceil(len(X) / l)) # Ensures a final \"rest\" batch will be issued as appropriate\n",
    "    for k in counter(n):\n",
    "        a = k * l\n",
    "        b = a + l\n",
    "        yield (k, X[a:b], y[a:b])\n",
    "\n",
    "\n",
    "class Accuracy(object):\n",
    "    def __init__(self, network, batch_size, *datasets):\n",
    "        self.inputs = network.inputs\n",
    "        self.session = network.session\n",
    "        with network.session.graph.as_default():\n",
    "            self.outputs = tf.placeholder(tf.float32)\n",
    "            is_correct_prediction = tf.equal(network.argmax, tf.argmax(self.outputs, 1))\n",
    "            self.accuracy = tf.reduce_sum(tf.cast(is_correct_prediction, tf.float32))\n",
    "\n",
    "        self.datasets = datasets\n",
    "        self.batch_size = batch_size\n",
    "\n",
    "    def __call__(self):\n",
    "        def accuracy(dataset):\n",
    "            total = 0.0\n",
    "            count = 0.0\n",
    "            for (k, X_k, y_k) in batches(dataset, self.batch_size):\n",
    "                data = {self.inputs: X_k, self.outputs: y_k}\n",
    "                total += self.session.run(self.accuracy, feed_dict=data)\n",
    "                count += len(X_k)\n",
    "\n",
    "            return total / count\n",
    "\n",
    "        return tuple(accuracy(dataset) for dataset in self.datasets)\n",
    "\n",
    "\n",
    "class Optimizer(object):\n",
    "    def __init__(self, network, learning_rate):\n",
    "        self.inputs = network.inputs\n",
    "        self.session = network.session\n",
    "        with self.session.graph.as_default():\n",
    "            self.outputs = tf.placeholder(tf.float32)\n",
    "            cross_entropy = tf.nn.softmax_cross_entropy_with_logits(network.outputs, self.outputs)\n",
    "            self.loss = tf.reduce_mean(cross_entropy)\n",
    "            # TODO: try different optimizer\n",
    "            # https://www.tensorflow.org/versions/r0.11/api_docs/python/train.html#AdamOptimizer\n",
    "            #self.optimizer = tf.train.GradientDescentOptimizer(learning_rate).minimize(self.loss)\n",
    "            self.optimizer = tf.train.AdamOptimizer(learning_rate, epsilon=0.1).minimize(self.loss)\n",
    "            \n",
    "    def __call__(self, X, y):\n",
    "        data = {self.inputs: X, self.outputs: y}\n",
    "        (_, l) = self.session.run([self.optimizer, self.loss], feed_dict=data)\n",
    "        return l\n",
    "\n",
    "\n",
    "def plot_lines(title, x, *ys, **kwargs):\n",
    "    y_min = maxsize\n",
    "    y_max = -maxsize\n",
    "\n",
    "    plotter = plt.subplot(111)\n",
    "    for (y, c, l) in ys:\n",
    "        label = '%s (last: %.3f)' % (l, round(y[-1], 3))\n",
    "        plotter.plot(x, y, c, label=label)\n",
    "        y_min = min(floor(np.min(y)), y_min)\n",
    "        y_max = max(ceil(np.max(y)), y_max)\n",
    "\n",
    "    plotter.set_title(title)\n",
    "    plotter.set_xlim([x[0], x[-1]])\n",
    "    plotter.set_ylim([y_min, y_max])\n",
    "    plotter.legend(loc=kwargs.get('loc', 1))\n",
    "    plt.tight_layout()\n",
    "    plt.show()\n",
    "\n",
    "\n",
    "def train(network, data, parameters):\n",
    "    batch_size = parameters.batch.size\n",
    "    batch_step = parameters.batch.step\n",
    "    learning_rate = parameters.learning_rate\n",
    "    epochs = parameters.epochs\n",
    "\n",
    "    accuracy = Accuracy(network, parameters.batch.size, data.train, data.valid)\n",
    "    optimizer = Optimizer(network, learning_rate)\n",
    "    session = network.session\n",
    "\n",
    "    x_batch = []\n",
    "    y_train = []\n",
    "    y_valid = []\n",
    "    y_loss = []\n",
    "    \n",
    "    network.init_variables()\n",
    "    \n",
    "    for i in range(epochs):\n",
    "        counter = lambda n: tqdm(range(n), desc='Epoch {:>2}/{}'.format(i + 1, epochs), unit='batches')\n",
    "        for (k, X_k, y_k) in batches(data.train, batch_size, counter):\n",
    "            loss = optimizer(X_k, y_k)\n",
    "\n",
    "            if k % batch_step == 0:\n",
    "                (a_train, a_valid) = accuracy()\n",
    "                x_batch.append(len(x_batch) * batch_step)\n",
    "                y_train.append(a_train)\n",
    "                y_valid.append(a_valid)\n",
    "                y_loss.append(loss)\n",
    "\n",
    "        plot_lines('Loss', x_batch,\n",
    "            (y_loss, 'g', 'Loss')\n",
    "        )\n",
    "\n",
    "        plot_lines('Accuracy', x_batch,\n",
    "            (y_train, 'r', 'Training Accuracy'),\n",
    "            (y_valid, 'b', 'Validation Accuracy'),\n",
    "            loc=4\n",
    "        )\n",
    "\n",
    "\n",
    "def load(network, path):\n",
    "    session = network.session\n",
    "    with session.graph.as_default():\n",
    "        saver = tf.train.Saver()\n",
    "        saver.restore(session, path)\n",
    "\n",
    "\n",
    "def save(network, path):\n",
    "    session = network.session\n",
    "    with session.graph.as_default():\n",
    "        saver = tf.train.Saver()\n",
    "        saver.save(session, path)\n",
    "\n",
    "\n",
    "def trained_network():\n",
    "    data = Attributes()\n",
    "    #data.train = Normalized(Padded(Vectorized('Train', 'datasets/pickled/train.p')))\n",
    "    #data.train = Normalized(Culled(Vectorized('Train', 'datasets/pickled/train.p')))\n",
    "    data.train = Normalized(Vectorized('Train', 'datasets/pickled/train.p'))\n",
    "    (data.train, data.valid) = split(data.train)\n",
    "\n",
    "    parameters = default_parameters()\n",
    "    parameters.inputs.side = data.train.X.shape[1]\n",
    "    parameters.output.classes = data.train.y.breadth\n",
    "\n",
    "    network = Network(parameters)\n",
    "    train(network, data, parameters)\n",
    "    save(network, 'network.chk')\n",
    "\n",
    "    return network"
   ]
  },
  {
   "cell_type": "code",
   "execution_count": 23,
   "metadata": {
    "collapsed": false
   },
   "outputs": [
    {
     "name": "stderr",
     "output_type": "stream",
     "text": [
      "Epoch  1/5: 100%|██████████| 549/549 [07:33<00:00,  2.29batches/s]\n"
     ]
    },
    {
     "data": {
      "image/png": "[encoded data removed]",
      "text/plain": [
       "<matplotlib.figure.Figure at 0x7f55985d49b0>"
      ]
     },
     "metadata": {},
     "output_type": "display_data"
    },
    {
     "data": {
      "image/png": "[encoded data removed]",
      "text/plain": [
       "<matplotlib.figure.Figure at 0x7f559837e710>"
      ]
     },
     "metadata": {},
     "output_type": "display_data"
    },
    {
     "name": "stderr",
     "output_type": "stream",
     "text": [
      "Epoch  2/5: 100%|██████████| 549/549 [07:50<00:00,  2.61batches/s]\n"
     ]
    },
    {
     "data": {
      "image/png": "[encoded data removed]",
      "text/plain": [
       "<matplotlib.figure.Figure at 0x7f55984bc278>"
      ]
     },
     "metadata": {},
     "output_type": "display_data"
    },
    {
     "data": {
      "image/png": "[encoded data removed]",
      "text/plain": [
       "<matplotlib.figure.Figure at 0x7f5638211f60>"
      ]
     },
     "metadata": {},
     "output_type": "display_data"
    },
    {
     "name": "stderr",
     "output_type": "stream",
     "text": [
      "Epoch  3/5:   3%|▎         | 19/549 [00:16<05:38,  1.57batches/s]\n"
     ]
    },
    {
     "ename": "KeyboardInterrupt",
     "evalue": "",
     "output_type": "error",
     "traceback": [
      "\u001b[0;31m---------------------------------------------------------------------------\u001b[0m",
      "\u001b[0;31mKeyboardInterrupt\u001b[0m                         Traceback (most recent call last)",
      "\u001b[0;32m<ipython-input-23-9f1badb4fae2>\u001b[0m in \u001b[0;36m<module>\u001b[0;34m()\u001b[0m\n\u001b[0;32m----> 1\u001b[0;31m \u001b[0mnetwork\u001b[0m \u001b[0;34m=\u001b[0m \u001b[0mtrained_network\u001b[0m\u001b[0;34m(\u001b[0m\u001b[0;34m)\u001b[0m\u001b[0;34m\u001b[0m\u001b[0m\n\u001b[0m",
      "\u001b[0;32m<ipython-input-22-2f56b9131ab8>\u001b[0m in \u001b[0;36mtrained_network\u001b[0;34m()\u001b[0m\n\u001b[1;32m    148\u001b[0m \u001b[0;34m\u001b[0m\u001b[0m\n\u001b[1;32m    149\u001b[0m     \u001b[0mnetwork\u001b[0m \u001b[0;34m=\u001b[0m \u001b[0mNetwork\u001b[0m\u001b[0;34m(\u001b[0m\u001b[0mparameters\u001b[0m\u001b[0;34m)\u001b[0m\u001b[0;34m\u001b[0m\u001b[0m\n\u001b[0;32m--> 150\u001b[0;31m     \u001b[0mtrain\u001b[0m\u001b[0;34m(\u001b[0m\u001b[0mnetwork\u001b[0m\u001b[0;34m,\u001b[0m \u001b[0mdata\u001b[0m\u001b[0;34m,\u001b[0m \u001b[0mparameters\u001b[0m\u001b[0;34m)\u001b[0m\u001b[0;34m\u001b[0m\u001b[0m\n\u001b[0m\u001b[1;32m    151\u001b[0m     \u001b[0msave\u001b[0m\u001b[0;34m(\u001b[0m\u001b[0mnetwork\u001b[0m\u001b[0;34m,\u001b[0m \u001b[0;34m'network.chk'\u001b[0m\u001b[0;34m)\u001b[0m\u001b[0;34m\u001b[0m\u001b[0m\n\u001b[1;32m    152\u001b[0m \u001b[0;34m\u001b[0m\u001b[0m\n",
      "\u001b[0;32m<ipython-input-22-2f56b9131ab8>\u001b[0m in \u001b[0;36mtrain\u001b[0;34m(network, data, parameters)\u001b[0m\n\u001b[1;32m    105\u001b[0m \u001b[0;34m\u001b[0m\u001b[0m\n\u001b[1;32m    106\u001b[0m             \u001b[0;32mif\u001b[0m \u001b[0mk\u001b[0m \u001b[0;34m%\u001b[0m \u001b[0mbatch_step\u001b[0m \u001b[0;34m==\u001b[0m \u001b[0;36m0\u001b[0m\u001b[0;34m:\u001b[0m\u001b[0;34m\u001b[0m\u001b[0m\n\u001b[0;32m--> 107\u001b[0;31m                 \u001b[0;34m(\u001b[0m\u001b[0ma_train\u001b[0m\u001b[0;34m,\u001b[0m \u001b[0ma_valid\u001b[0m\u001b[0;34m)\u001b[0m \u001b[0;34m=\u001b[0m \u001b[0maccuracy\u001b[0m\u001b[0;34m(\u001b[0m\u001b[0;34m)\u001b[0m\u001b[0;34m\u001b[0m\u001b[0m\n\u001b[0m\u001b[1;32m    108\u001b[0m                 \u001b[0mx_batch\u001b[0m\u001b[0;34m.\u001b[0m\u001b[0mappend\u001b[0m\u001b[0;34m(\u001b[0m\u001b[0mlen\u001b[0m\u001b[0;34m(\u001b[0m\u001b[0mx_batch\u001b[0m\u001b[0;34m)\u001b[0m \u001b[0;34m*\u001b[0m \u001b[0mbatch_step\u001b[0m\u001b[0;34m)\u001b[0m\u001b[0;34m\u001b[0m\u001b[0m\n\u001b[1;32m    109\u001b[0m                 \u001b[0my_train\u001b[0m\u001b[0;34m.\u001b[0m\u001b[0mappend\u001b[0m\u001b[0;34m(\u001b[0m\u001b[0ma_train\u001b[0m\u001b[0;34m)\u001b[0m\u001b[0;34m\u001b[0m\u001b[0m\n",
      "\u001b[0;32m<ipython-input-22-2f56b9131ab8>\u001b[0m in \u001b[0;36m__call__\u001b[0;34m(self)\u001b[0m\n\u001b[1;32m     41\u001b[0m             \u001b[0;32mreturn\u001b[0m \u001b[0mtotal\u001b[0m \u001b[0;34m/\u001b[0m \u001b[0mcount\u001b[0m\u001b[0;34m\u001b[0m\u001b[0m\n\u001b[1;32m     42\u001b[0m \u001b[0;34m\u001b[0m\u001b[0m\n\u001b[0;32m---> 43\u001b[0;31m         \u001b[0;32mreturn\u001b[0m \u001b[0mtuple\u001b[0m\u001b[0;34m(\u001b[0m\u001b[0maccuracy\u001b[0m\u001b[0;34m(\u001b[0m\u001b[0mdataset\u001b[0m\u001b[0;34m)\u001b[0m \u001b[0;32mfor\u001b[0m \u001b[0mdataset\u001b[0m \u001b[0;32min\u001b[0m \u001b[0mself\u001b[0m\u001b[0;34m.\u001b[0m\u001b[0mdatasets\u001b[0m\u001b[0;34m)\u001b[0m\u001b[0;34m\u001b[0m\u001b[0m\n\u001b[0m\u001b[1;32m     44\u001b[0m \u001b[0;34m\u001b[0m\u001b[0m\n\u001b[1;32m     45\u001b[0m \u001b[0;34m\u001b[0m\u001b[0m\n",
      "\u001b[0;32m<ipython-input-22-2f56b9131ab8>\u001b[0m in \u001b[0;36m<genexpr>\u001b[0;34m(.0)\u001b[0m\n\u001b[1;32m     41\u001b[0m             \u001b[0;32mreturn\u001b[0m \u001b[0mtotal\u001b[0m \u001b[0;34m/\u001b[0m \u001b[0mcount\u001b[0m\u001b[0;34m\u001b[0m\u001b[0m\n\u001b[1;32m     42\u001b[0m \u001b[0;34m\u001b[0m\u001b[0m\n\u001b[0;32m---> 43\u001b[0;31m         \u001b[0;32mreturn\u001b[0m \u001b[0mtuple\u001b[0m\u001b[0;34m(\u001b[0m\u001b[0maccuracy\u001b[0m\u001b[0;34m(\u001b[0m\u001b[0mdataset\u001b[0m\u001b[0;34m)\u001b[0m \u001b[0;32mfor\u001b[0m \u001b[0mdataset\u001b[0m \u001b[0;32min\u001b[0m \u001b[0mself\u001b[0m\u001b[0;34m.\u001b[0m\u001b[0mdatasets\u001b[0m\u001b[0;34m)\u001b[0m\u001b[0;34m\u001b[0m\u001b[0m\n\u001b[0m\u001b[1;32m     44\u001b[0m \u001b[0;34m\u001b[0m\u001b[0m\n\u001b[1;32m     45\u001b[0m \u001b[0;34m\u001b[0m\u001b[0m\n",
      "\u001b[0;32m<ipython-input-22-2f56b9131ab8>\u001b[0m in \u001b[0;36maccuracy\u001b[0;34m(dataset)\u001b[0m\n\u001b[1;32m     36\u001b[0m             \u001b[0;32mfor\u001b[0m \u001b[0;34m(\u001b[0m\u001b[0mk\u001b[0m\u001b[0;34m,\u001b[0m \u001b[0mX_k\u001b[0m\u001b[0;34m,\u001b[0m \u001b[0my_k\u001b[0m\u001b[0;34m)\u001b[0m \u001b[0;32min\u001b[0m \u001b[0mbatches\u001b[0m\u001b[0;34m(\u001b[0m\u001b[0mdataset\u001b[0m\u001b[0;34m,\u001b[0m \u001b[0mself\u001b[0m\u001b[0;34m.\u001b[0m\u001b[0mbatch_size\u001b[0m\u001b[0;34m)\u001b[0m\u001b[0;34m:\u001b[0m\u001b[0;34m\u001b[0m\u001b[0m\n\u001b[1;32m     37\u001b[0m                 \u001b[0mdata\u001b[0m \u001b[0;34m=\u001b[0m \u001b[0;34m{\u001b[0m\u001b[0mself\u001b[0m\u001b[0;34m.\u001b[0m\u001b[0minputs\u001b[0m\u001b[0;34m:\u001b[0m \u001b[0mX_k\u001b[0m\u001b[0;34m,\u001b[0m \u001b[0mself\u001b[0m\u001b[0;34m.\u001b[0m\u001b[0moutputs\u001b[0m\u001b[0;34m:\u001b[0m \u001b[0my_k\u001b[0m\u001b[0;34m}\u001b[0m\u001b[0;34m\u001b[0m\u001b[0m\n\u001b[0;32m---> 38\u001b[0;31m                 \u001b[0mtotal\u001b[0m \u001b[0;34m+=\u001b[0m \u001b[0mself\u001b[0m\u001b[0;34m.\u001b[0m\u001b[0msession\u001b[0m\u001b[0;34m.\u001b[0m\u001b[0mrun\u001b[0m\u001b[0;34m(\u001b[0m\u001b[0mself\u001b[0m\u001b[0;34m.\u001b[0m\u001b[0maccuracy\u001b[0m\u001b[0;34m,\u001b[0m \u001b[0mfeed_dict\u001b[0m\u001b[0;34m=\u001b[0m\u001b[0mdata\u001b[0m\u001b[0;34m)\u001b[0m\u001b[0;34m\u001b[0m\u001b[0m\n\u001b[0m\u001b[1;32m     39\u001b[0m                 \u001b[0mcount\u001b[0m \u001b[0;34m+=\u001b[0m \u001b[0mlen\u001b[0m\u001b[0;34m(\u001b[0m\u001b[0mX_k\u001b[0m\u001b[0;34m)\u001b[0m\u001b[0;34m\u001b[0m\u001b[0m\n\u001b[1;32m     40\u001b[0m \u001b[0;34m\u001b[0m\u001b[0m\n",
      "\u001b[0;32m/home/erios/bin/anaconda3/envs/gpu/lib/python3.5/site-packages/tensorflow/python/client/session.py\u001b[0m in \u001b[0;36mrun\u001b[0;34m(self, fetches, feed_dict, options, run_metadata)\u001b[0m\n\u001b[1;32m    715\u001b[0m     \u001b[0;32mtry\u001b[0m\u001b[0;34m:\u001b[0m\u001b[0;34m\u001b[0m\u001b[0m\n\u001b[1;32m    716\u001b[0m       result = self._run(None, fetches, feed_dict, options_ptr,\n\u001b[0;32m--> 717\u001b[0;31m                          run_metadata_ptr)\n\u001b[0m\u001b[1;32m    718\u001b[0m       \u001b[0;32mif\u001b[0m \u001b[0mrun_metadata\u001b[0m\u001b[0;34m:\u001b[0m\u001b[0;34m\u001b[0m\u001b[0m\n\u001b[1;32m    719\u001b[0m         \u001b[0mproto_data\u001b[0m \u001b[0;34m=\u001b[0m \u001b[0mtf_session\u001b[0m\u001b[0;34m.\u001b[0m\u001b[0mTF_GetBuffer\u001b[0m\u001b[0;34m(\u001b[0m\u001b[0mrun_metadata_ptr\u001b[0m\u001b[0;34m)\u001b[0m\u001b[0;34m\u001b[0m\u001b[0m\n",
      "\u001b[0;32m/home/erios/bin/anaconda3/envs/gpu/lib/python3.5/site-packages/tensorflow/python/client/session.py\u001b[0m in \u001b[0;36m_run\u001b[0;34m(self, handle, fetches, feed_dict, options, run_metadata)\u001b[0m\n\u001b[1;32m    913\u001b[0m     \u001b[0;32mif\u001b[0m \u001b[0mfinal_fetches\u001b[0m \u001b[0;32mor\u001b[0m \u001b[0mfinal_targets\u001b[0m\u001b[0;34m:\u001b[0m\u001b[0;34m\u001b[0m\u001b[0m\n\u001b[1;32m    914\u001b[0m       results = self._do_run(handle, final_targets, final_fetches,\n\u001b[0;32m--> 915\u001b[0;31m                              feed_dict_string, options, run_metadata)\n\u001b[0m\u001b[1;32m    916\u001b[0m     \u001b[0;32melse\u001b[0m\u001b[0;34m:\u001b[0m\u001b[0;34m\u001b[0m\u001b[0m\n\u001b[1;32m    917\u001b[0m       \u001b[0mresults\u001b[0m \u001b[0;34m=\u001b[0m \u001b[0;34m[\u001b[0m\u001b[0;34m]\u001b[0m\u001b[0;34m\u001b[0m\u001b[0m\n",
      "\u001b[0;32m/home/erios/bin/anaconda3/envs/gpu/lib/python3.5/site-packages/tensorflow/python/client/session.py\u001b[0m in \u001b[0;36m_do_run\u001b[0;34m(self, handle, target_list, fetch_list, feed_dict, options, run_metadata)\u001b[0m\n\u001b[1;32m    963\u001b[0m     \u001b[0;32mif\u001b[0m \u001b[0mhandle\u001b[0m \u001b[0;32mis\u001b[0m \u001b[0;32mNone\u001b[0m\u001b[0;34m:\u001b[0m\u001b[0;34m\u001b[0m\u001b[0m\n\u001b[1;32m    964\u001b[0m       return self._do_call(_run_fn, self._session, feed_dict, fetch_list,\n\u001b[0;32m--> 965\u001b[0;31m                            target_list, options, run_metadata)\n\u001b[0m\u001b[1;32m    966\u001b[0m     \u001b[0;32melse\u001b[0m\u001b[0;34m:\u001b[0m\u001b[0;34m\u001b[0m\u001b[0m\n\u001b[1;32m    967\u001b[0m       return self._do_call(_prun_fn, self._session, handle, feed_dict,\n",
      "\u001b[0;32m/home/erios/bin/anaconda3/envs/gpu/lib/python3.5/site-packages/tensorflow/python/client/session.py\u001b[0m in \u001b[0;36m_do_call\u001b[0;34m(self, fn, *args)\u001b[0m\n\u001b[1;32m    970\u001b[0m   \u001b[0;32mdef\u001b[0m \u001b[0m_do_call\u001b[0m\u001b[0;34m(\u001b[0m\u001b[0mself\u001b[0m\u001b[0;34m,\u001b[0m \u001b[0mfn\u001b[0m\u001b[0;34m,\u001b[0m \u001b[0;34m*\u001b[0m\u001b[0margs\u001b[0m\u001b[0;34m)\u001b[0m\u001b[0;34m:\u001b[0m\u001b[0;34m\u001b[0m\u001b[0m\n\u001b[1;32m    971\u001b[0m     \u001b[0;32mtry\u001b[0m\u001b[0;34m:\u001b[0m\u001b[0;34m\u001b[0m\u001b[0m\n\u001b[0;32m--> 972\u001b[0;31m       \u001b[0;32mreturn\u001b[0m \u001b[0mfn\u001b[0m\u001b[0;34m(\u001b[0m\u001b[0;34m*\u001b[0m\u001b[0margs\u001b[0m\u001b[0;34m)\u001b[0m\u001b[0;34m\u001b[0m\u001b[0m\n\u001b[0m\u001b[1;32m    973\u001b[0m     \u001b[0;32mexcept\u001b[0m \u001b[0merrors\u001b[0m\u001b[0;34m.\u001b[0m\u001b[0mOpError\u001b[0m \u001b[0;32mas\u001b[0m \u001b[0me\u001b[0m\u001b[0;34m:\u001b[0m\u001b[0;34m\u001b[0m\u001b[0m\n\u001b[1;32m    974\u001b[0m       \u001b[0mmessage\u001b[0m \u001b[0;34m=\u001b[0m \u001b[0mcompat\u001b[0m\u001b[0;34m.\u001b[0m\u001b[0mas_text\u001b[0m\u001b[0;34m(\u001b[0m\u001b[0me\u001b[0m\u001b[0;34m.\u001b[0m\u001b[0mmessage\u001b[0m\u001b[0;34m)\u001b[0m\u001b[0;34m\u001b[0m\u001b[0m\n",
      "\u001b[0;32m/home/erios/bin/anaconda3/envs/gpu/lib/python3.5/site-packages/tensorflow/python/client/session.py\u001b[0m in \u001b[0;36m_run_fn\u001b[0;34m(session, feed_dict, fetch_list, target_list, options, run_metadata)\u001b[0m\n\u001b[1;32m    952\u001b[0m         return tf_session.TF_Run(session, options,\n\u001b[1;32m    953\u001b[0m                                  \u001b[0mfeed_dict\u001b[0m\u001b[0;34m,\u001b[0m \u001b[0mfetch_list\u001b[0m\u001b[0;34m,\u001b[0m \u001b[0mtarget_list\u001b[0m\u001b[0;34m,\u001b[0m\u001b[0;34m\u001b[0m\u001b[0m\n\u001b[0;32m--> 954\u001b[0;31m                                  status, run_metadata)\n\u001b[0m\u001b[1;32m    955\u001b[0m \u001b[0;34m\u001b[0m\u001b[0m\n\u001b[1;32m    956\u001b[0m     \u001b[0;32mdef\u001b[0m \u001b[0m_prun_fn\u001b[0m\u001b[0;34m(\u001b[0m\u001b[0msession\u001b[0m\u001b[0;34m,\u001b[0m \u001b[0mhandle\u001b[0m\u001b[0;34m,\u001b[0m \u001b[0mfeed_dict\u001b[0m\u001b[0;34m,\u001b[0m \u001b[0mfetch_list\u001b[0m\u001b[0;34m)\u001b[0m\u001b[0;34m:\u001b[0m\u001b[0;34m\u001b[0m\u001b[0m\n",
      "\u001b[0;31mKeyboardInterrupt\u001b[0m: "
     ]
    }
   ],
   "source": [
    "network = trained_network()"
   ]
  },
  {
   "cell_type": "code",
   "execution_count": null,
   "metadata": {
    "collapsed": false
   },
   "outputs": [],
   "source": [
    "network2 = Network(default_parameters())\n",
    "load(network2, 'inception.chk')\n",
    "\n",
    "data_train = Normalized(Culled(Vectorized('Train', 'datasets/pickled/train.p')))\n",
    "\n",
    "print(network2(data_train.X[:1]), data_train.y.classof(0))\n",
    "\n",
    "#test = Preprocessed('Test', 'datasets/pickled/test.p')\n",
    "\n",
    "#accuracy = Accuracy(network, 50, test)\n",
    "#print('Test performance: %.3f' % round(accuracy()[0], 3))"
   ]
  },
  {
   "cell_type": "markdown",
   "metadata": {},
   "source": [
    "### Question 4\n",
    "\n",
    "_How did you train your model? (Type of optimizer, batch size, epochs, hyperparameters, etc.)_\n"
   ]
  },
  {
   "cell_type": "markdown",
   "metadata": {},
   "source": [
    "**Answer:**"
   ]
  },
  {
   "cell_type": "markdown",
   "metadata": {},
   "source": [
    "### Question 5\n",
    "\n",
    "\n",
    "_What approach did you take in coming up with a solution to this problem?_"
   ]
  },
  {
   "cell_type": "markdown",
   "metadata": {},
   "source": [
    "**Answer:**"
   ]
  },
  {
   "cell_type": "markdown",
   "metadata": {},
   "source": [
    "---\n",
    "\n",
    "## Step 3: Test a Model on New Images\n",
    "\n",
    "Take several pictures of traffic signs that you find on the web or around you (at least five), and run them through your classifier on your computer to produce example results. The classifier might not recognize some local signs but it could prove interesting nonetheless.\n",
    "\n",
    "You may find `signnames.csv` useful as it contains mappings from the class id (integer) to the actual sign name."
   ]
  },
  {
   "cell_type": "markdown",
   "metadata": {},
   "source": [
    "### Implementation\n",
    "\n",
    "Use the code cell (or multiple code cells, if necessary) to implement the first step of your project. Once you have completed your implementation and are satisfied with the results, be sure to thoroughly answer the questions that follow."
   ]
  },
  {
   "cell_type": "code",
   "execution_count": null,
   "metadata": {
    "collapsed": true
   },
   "outputs": [],
   "source": [
    "### Load the images and plot them here.\n",
    "### Feel free to use as many code cells as needed."
   ]
  },
  {
   "cell_type": "markdown",
   "metadata": {},
   "source": [
    "### Question 6\n",
    "\n",
    "_Choose five candidate images of traffic signs and provide them in the report. Are there any particular qualities of the image(s) that might make classification difficult? It would be helpful to plot the images in the notebook._\n",
    "\n"
   ]
  },
  {
   "cell_type": "markdown",
   "metadata": {},
   "source": [
    "**Answer:**"
   ]
  },
  {
   "cell_type": "code",
   "execution_count": null,
   "metadata": {
    "collapsed": true
   },
   "outputs": [],
   "source": [
    "### Run the predictions here.\n",
    "### Feel free to use as many code cells as needed."
   ]
  },
  {
   "cell_type": "markdown",
   "metadata": {},
   "source": [
    "### Question 7\n",
    "\n",
    "_Is your model able to perform equally well on captured pictures or a live camera stream when compared to testing on the dataset?_\n"
   ]
  },
  {
   "cell_type": "markdown",
   "metadata": {},
   "source": [
    "**Answer:**"
   ]
  },
  {
   "cell_type": "code",
   "execution_count": null,
   "metadata": {
    "collapsed": true
   },
   "outputs": [],
   "source": [
    "### Visualize the softmax probabilities here.\n",
    "### Feel free to use as many code cells as needed."
   ]
  },
  {
   "cell_type": "markdown",
   "metadata": {},
   "source": [
    "### Question 8\n",
    "\n",
    "*Use the model's softmax probabilities to visualize the **certainty** of its predictions, [`tf.nn.top_k`](https://www.tensorflow.org/versions/r0.11/api_docs/python/nn.html#top_k) could prove helpful here. Which predictions is the model certain of? Uncertain? If the model was incorrect in its initial prediction, does the correct prediction appear in the top k? (k should be 5 at most)*\n"
   ]
  },
  {
   "cell_type": "markdown",
   "metadata": {},
   "source": [
    "**Answer:**"
   ]
  },
  {
   "cell_type": "markdown",
   "metadata": {},
   "source": [
    "### Question 9\n",
    "_If necessary, provide documentation for how an interface was built for your model to load and classify newly-acquired images._\n"
   ]
  },
  {
   "cell_type": "markdown",
   "metadata": {},
   "source": [
    "**Answer:**"
   ]
  },
  {
   "cell_type": "markdown",
   "metadata": {},
   "source": [
    "> **Note**: Once you have completed all of the code implementations and successfully answered each question above, you may finalize your work by exporting the iPython Notebook as an HTML document. You can do this by using the menu above and navigating to  \\n\",\n",
    "    \"**File -> Download as -> HTML (.html)**. Include the finished document along with this notebook as your submission."
   ]
  },
  {
   "cell_type": "code",
   "execution_count": null,
   "metadata": {
    "collapsed": true
   },
   "outputs": [],
   "source": []
  }
 ],
 "metadata": {
  "anaconda-cloud": {},
  "kernelspec": {
   "display_name": "Python [default]",
   "language": "python",
   "name": "python3"
  },
  "language_info": {
   "codemirror_mode": {
    "name": "ipython",
    "version": 3
   },
   "file_extension": ".py",
   "mimetype": "text/x-python",
   "name": "python",
   "nbconvert_exporter": "python",
   "pygments_lexer": "ipython3",
   "version": "3.5.2"
  }
 },
 "nbformat": 4,
 "nbformat_minor": 1
}
